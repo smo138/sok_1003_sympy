{
 "cells": [
  {
   "cell_type": "markdown",
   "id": "9ca89965-2ae2-47f4-9736-a111e836a224",
   "metadata": {},
   "source": [
    "Arbeidskrav 5 med sympy"
   ]
  },
  {
   "cell_type": "code",
   "execution_count": null,
   "id": "912aea9a-939c-4767-b658-5ba579a413f5",
   "metadata": {},
   "outputs": [],
   "source": [
    "# komma ersatter = (,=)"
   ]
  },
  {
   "cell_type": "code",
   "execution_count": 2,
   "id": "06327546-da80-4f2f-9ebe-c1af90b03d83",
   "metadata": {},
   "outputs": [
    {
     "data": {
      "text/plain": [
       "{x: -1, y: 2}"
      ]
     },
     "execution_count": 2,
     "metadata": {},
     "output_type": "execute_result"
    }
   ],
   "source": [
    "import sympy as sp\n",
    "from sympy.solvers import solve\n",
    "x,y=sp.symbols('x y')\n",
    "\n",
    "import pandas as pd\n",
    "import numpy as np\n",
    "import matplotlib.pyplot as plt\n",
    "\n",
    "##Modul 15\n",
    "#Oppgave 1A og 1B\n",
    "eq1 = sp.Eq(2*x + 4*y, 6)\n",
    "eq1\n",
    "\n",
    "eq2 = sp.Eq(-2*x + y, 4)\n",
    "eq2\n",
    "\n",
    "sol=solve([eq1,eq2], [x,y])\n",
    "sol"
   ]
  },
  {
   "cell_type": "markdown",
   "id": "fda58600-7b24-4dbc-ad42-359de60abb24",
   "metadata": {},
   "source": [
    "Oppgåve 1b & 2b"
   ]
  },
  {
   "cell_type": "code",
   "execution_count": 3,
   "id": "ed029f05-210b-4dd1-a723-45c5929e18e7",
   "metadata": {},
   "outputs": [
    {
     "data": {
      "text/plain": [
       "{x: 0, y: 1}"
      ]
     },
     "execution_count": 3,
     "metadata": {},
     "output_type": "execute_result"
    }
   ],
   "source": [
    "eq3 = sp.Eq(2*x - y, -1)\n",
    "eq3\n",
    "\n",
    "eq4 = sp.Eq(2+x - y,  1)\n",
    "eq4\n",
    "\n",
    "\n",
    "sol=solve([eq3,eq4], [x,y])\n",
    "sol"
   ]
  },
  {
   "cell_type": "markdown",
   "id": "60eab139-09e2-4ea2-94fc-6601c2b9cc7d",
   "metadata": {},
   "source": [
    "Oppgåve 2a1 & 2a2"
   ]
  },
  {
   "cell_type": "code",
   "execution_count": 4,
   "id": "1652c480-c513-40da-89f8-73d4078bb2e7",
   "metadata": {},
   "outputs": [
    {
     "data": {
      "text/plain": [
       "{x: 4, y: 0}"
      ]
     },
     "execution_count": 4,
     "metadata": {},
     "output_type": "execute_result"
    }
   ],
   "source": [
    "eq5 = sp.Eq(3*x - 12 , - 6*y)\n",
    "eq5\n",
    "\n",
    "eq6 = sp.Eq(4*x - 8*y , 16)\n",
    "eq6\n",
    "\n",
    "sol=solve([eq5,eq6], [x,y])\n",
    "sol"
   ]
  },
  {
   "cell_type": "markdown",
   "id": "db4cf08b-8524-421f-a6f0-608f817d938e",
   "metadata": {},
   "source": [
    "Oppgåve 2b1 & 2b2"
   ]
  },
  {
   "cell_type": "code",
   "execution_count": 5,
   "id": "e3b7537e-5592-4555-83cf-60b4f8095b24",
   "metadata": {},
   "outputs": [
    {
     "data": {
      "text/plain": [
       "[(-15/2, 31/4), (2, 3)]"
      ]
     },
     "execution_count": 5,
     "metadata": {},
     "output_type": "execute_result"
    }
   ],
   "source": [
    "eq7 = sp.Eq(x**2 + 4*x - 3 ,3*y)\n",
    "eq7\n",
    "\n",
    "eq8 = sp.Eq(2*y , 8 - x)\n",
    "eq8\n",
    "\n",
    "sol=solve([eq7,eq8], [x,y])\n",
    "sol"
   ]
  },
  {
   "cell_type": "markdown",
   "id": "62bfa676-c855-44fe-8f99-99462e2adf4d",
   "metadata": {},
   "source": [
    "Modul 16"
   ]
  },
  {
   "cell_type": "markdown",
   "id": "135a9884-9af5-4300-8385-1ee529422ea8",
   "metadata": {},
   "source": [
    "Oppgåve a1 og a2"
   ]
  },
  {
   "cell_type": "code",
   "execution_count": 6,
   "id": "5a366ddd-9673-449e-a903-985c539b39c3",
   "metadata": {},
   "outputs": [
    {
     "data": {
      "text/plain": [
       "{x: 2, y: 2}"
      ]
     },
     "execution_count": 6,
     "metadata": {},
     "output_type": "execute_result"
    }
   ],
   "source": [
    "eq9 = sp.Eq(4*x + 2*y , 12)\n",
    "eq9\n",
    "\n",
    "eq10 = sp.Eq(6*x - 2*y , 8)\n",
    "eq10\n",
    "\n",
    "sol=solve([eq9,eq10], [x,y])\n",
    "sol"
   ]
  },
  {
   "cell_type": "markdown",
   "id": "c0b61c48-5007-4a1a-bd14-8d29eafaf467",
   "metadata": {},
   "source": [
    "Oppgåve b1 & b2"
   ]
  },
  {
   "cell_type": "code",
   "execution_count": 7,
   "id": "248d82ca-c69b-4777-93bd-c6472366ee5a",
   "metadata": {},
   "outputs": [
    {
     "data": {
      "text/plain": [
       "[(0, -5), (12, 1)]"
      ]
     },
     "execution_count": 7,
     "metadata": {},
     "output_type": "execute_result"
    }
   ],
   "source": [
    "import sympy as sp\n",
    "from sympy.solvers import solve\n",
    "x,y=sp.symbols('x y')\n",
    "\n",
    "\n",
    "eq11 = sp.Eq(2*x +y**2 , 25)\n",
    "eq11\n",
    "\n",
    "eq12 = sp.Eq(x - 2*y , 10)\n",
    "eq12\n",
    "\n",
    "sol=solve([eq11,eq12], [x,y])\n",
    "sol\n"
   ]
  },
  {
   "cell_type": "markdown",
   "id": "94441d7d-5601-4468-ae6d-8996dd9c7b89",
   "metadata": {},
   "source": [
    "Oppgåve 2a1 & 2a2"
   ]
  },
  {
   "cell_type": "code",
   "execution_count": 8,
   "id": "f42cb85b-fc53-409e-b9dd-7ddeda57ea23",
   "metadata": {},
   "outputs": [
    {
     "data": {
      "text/plain": [
       "{x: 4, y: 2}"
      ]
     },
     "execution_count": 8,
     "metadata": {},
     "output_type": "execute_result"
    }
   ],
   "source": [
    "eq13 = sp.Eq(4*x - 4*y , 8)\n",
    "eq13\n",
    "\n",
    "eq14 = sp.Eq(9*x - 5*y , 26)\n",
    "eq14\n",
    "\n",
    "sol=solve([eq13,eq14], [x,y])\n",
    "sol"
   ]
  },
  {
   "cell_type": "markdown",
   "id": "5f00e126-c03f-4ba7-82c9-e8cb6353f7ed",
   "metadata": {},
   "source": [
    "Oppgåve 2b1 & 2b2"
   ]
  },
  {
   "cell_type": "code",
   "execution_count": 9,
   "id": "37b7b56b-f40d-42e2-9549-ee85568c8b95",
   "metadata": {},
   "outputs": [
    {
     "data": {
      "text/plain": [
       "[(-9, -2*sqrt(3)), (-9, 2*sqrt(3)), (7, -2), (7, 2)]"
      ]
     },
     "execution_count": 9,
     "metadata": {},
     "output_type": "execute_result"
    }
   ],
   "source": [
    "eq15 = sp.Eq(x+ 2*y**2 , 15)\n",
    "eq15\n",
    "\n",
    "eq16 = sp.Eq(x**2 - 4*y**2 , 33)\n",
    "eq16\n",
    "\n",
    "sol=solve([eq15,eq16], [x,y])\n",
    "sol"
   ]
  },
  {
   "cell_type": "markdown",
   "id": "3fd210ab-2ca6-46c4-b5e2-fc6a00422495",
   "metadata": {},
   "source": [
    "Modul 17"
   ]
  },
  {
   "cell_type": "markdown",
   "id": "4b19ae19-1af4-4d1d-8c47-00b5f6c2bcb3",
   "metadata": {},
   "source": [
    "Oppgåve 1a 1+2"
   ]
  },
  {
   "cell_type": "code",
   "execution_count": 10,
   "id": "8fe1c011-a634-4276-bf48-b3147eceee17",
   "metadata": {},
   "outputs": [
    {
     "data": {
      "text/plain": [
       "[(0, -4), (0, 4), (15, -1), (15, 1)]"
      ]
     },
     "execution_count": 10,
     "metadata": {},
     "output_type": "execute_result"
    }
   ],
   "source": [
    "eq17 = sp.Eq(x*y**2 - x , 0)\n",
    "eq17\n",
    "\n",
    "eq18 = sp.Eq(x + y**2 , 16)\n",
    "eq18\n",
    "\n",
    "sol=solve([eq17,eq18], [x,y])\n",
    "sol"
   ]
  },
  {
   "cell_type": "markdown",
   "id": "b4c897f5-0c51-41b0-aee6-8a8c56414db4",
   "metadata": {},
   "source": [
    "Oppgåve 1b 1+2"
   ]
  },
  {
   "cell_type": "code",
   "execution_count": 11,
   "id": "3b7699c1-17b1-4af9-88be-aa180e5132c5",
   "metadata": {},
   "outputs": [
    {
     "data": {
      "text/plain": [
       "[(-10, 0), (-6, -8), (-6, 8), (6, -8), (6, 8), (10, 0)]"
      ]
     },
     "execution_count": 11,
     "metadata": {},
     "output_type": "execute_result"
    }
   ],
   "source": [
    "eq19 = sp.Eq(x**2+y**2 , 100)\n",
    "eq19\n",
    "\n",
    "eq20 = sp.Eq(x**2*y - 36*y , 0)\n",
    "eq20\n",
    "\n",
    "sol=solve([eq19,eq20], [x,y])\n",
    "sol"
   ]
  },
  {
   "cell_type": "markdown",
   "id": "84ec1a9f-d5d5-4cac-b93d-4c6e77b6a82e",
   "metadata": {},
   "source": [
    "Oppgåve 2a 1+2"
   ]
  },
  {
   "cell_type": "code",
   "execution_count": 12,
   "id": "46209d39-c56d-460b-a449-f7373fb77c5f",
   "metadata": {},
   "outputs": [
    {
     "data": {
      "text/plain": [
       "[(-3, -7), (-3, 7), (0, -sqrt(58)), (0, sqrt(58)), (3, -7), (3, 7)]"
      ]
     },
     "execution_count": 12,
     "metadata": {},
     "output_type": "execute_result"
    }
   ],
   "source": [
    "eq21 = sp.Eq(x*y**2 - 49*x , 0)\n",
    "eq21\n",
    "\n",
    "eq22 = sp.Eq(x**2 + y**2 , 58)\n",
    "eq22\n",
    "\n",
    "sol=solve([eq21,eq22], [x,y])\n",
    "sol"
   ]
  },
  {
   "cell_type": "markdown",
   "id": "d9426629-14bf-4e56-a961-aeef55c48bb9",
   "metadata": {},
   "source": [
    "Oppgåve 2b 1+2"
   ]
  },
  {
   "cell_type": "code",
   "execution_count": 13,
   "id": "97950ce4-1470-40cd-8693-596151794ea4",
   "metadata": {},
   "outputs": [
    {
     "data": {
      "text/plain": [
       "[(-1.11803398874989, 0.0),\n",
       " (-0.500000000000000, -1.00000000000000),\n",
       " (-0.500000000000000, 1.00000000000000),\n",
       " (1.11803398874989, 0.0)]"
      ]
     },
     "execution_count": 13,
     "metadata": {},
     "output_type": "execute_result"
    }
   ],
   "source": [
    "eq23 = sp.Eq(x**2+y**2 , 5/4)\n",
    "eq23\n",
    "\n",
    "eq24 = sp.Eq(2*x*y + y , 0)\n",
    "eq24\n",
    "\n",
    "sol=solve([eq23,eq24], [x,y])\n",
    "sol"
   ]
  },
  {
   "cell_type": "markdown",
   "id": "6b9e36ae-0cdd-4aac-b2e2-184152df1b0c",
   "metadata": {},
   "source": [
    "Modul 19"
   ]
  },
  {
   "cell_type": "markdown",
   "id": "4f82d3ae-bbcd-42b9-99eb-415af9b318d1",
   "metadata": {},
   "source": [
    "Funksjoner:"
   ]
  },
  {
   "cell_type": "code",
   "execution_count": 14,
   "id": "35f696d1-3725-4f96-becd-11c816972ad8",
   "metadata": {},
   "outputs": [],
   "source": [
    "import sympy as sp\n",
    "from sympy.solvers import solve\n",
    "x,y=sp.symbols('x y')"
   ]
  },
  {
   "cell_type": "markdown",
   "id": "24431bcc-4b89-4d2a-a8f5-f9a7444159a9",
   "metadata": {},
   "source": [
    "a"
   ]
  },
  {
   "cell_type": "code",
   "execution_count": 15,
   "id": "875f2456-4c9f-4bf9-9e0b-6dee46a3f698",
   "metadata": {},
   "outputs": [
    {
     "data": {
      "text/latex": [
       "$\\displaystyle 5 x^{4}$"
      ],
      "text/plain": [
       "5*x**4"
      ]
     },
     "execution_count": 15,
     "metadata": {},
     "output_type": "execute_result"
    }
   ],
   "source": [
    "eq25 = sp.diff(x**5, x)\n",
    "eq25"
   ]
  },
  {
   "cell_type": "markdown",
   "id": "62ffc437-c59b-48b7-99df-5151de69cd11",
   "metadata": {},
   "source": [
    "b"
   ]
  },
  {
   "cell_type": "code",
   "execution_count": 16,
   "id": "608472d5-85b0-400c-bf70-1bd41307f1c1",
   "metadata": {},
   "outputs": [
    {
     "data": {
      "text/latex": [
       "$\\displaystyle 1$"
      ],
      "text/plain": [
       "1"
      ]
     },
     "execution_count": 16,
     "metadata": {},
     "output_type": "execute_result"
    }
   ],
   "source": [
    "eq26 = sp.diff(x+12,x)\n",
    "eq26"
   ]
  },
  {
   "cell_type": "markdown",
   "id": "1bd7503e-1e64-435e-8410-0615f00378f5",
   "metadata": {},
   "source": [
    "c"
   ]
  },
  {
   "cell_type": "code",
   "execution_count": 17,
   "id": "2e7181fb-c152-4ef0-b5af-abafbfe7049d",
   "metadata": {},
   "outputs": [
    {
     "data": {
      "text/latex": [
       "$\\displaystyle 3 x^{2} + 4$"
      ],
      "text/plain": [
       "3*x**2 + 4"
      ]
     },
     "execution_count": 17,
     "metadata": {},
     "output_type": "execute_result"
    }
   ],
   "source": [
    "eq27 = sp.diff(x**3 + 4*x , x)\n",
    "eq27"
   ]
  },
  {
   "cell_type": "markdown",
   "id": "138bc020-06aa-4a6c-92ec-e77b49d6b795",
   "metadata": {},
   "source": [
    "d"
   ]
  },
  {
   "cell_type": "code",
   "execution_count": 18,
   "id": "a8a5a996-937e-42f0-90b9-7b553aeeacd6",
   "metadata": {},
   "outputs": [
    {
     "data": {
      "text/latex": [
       "$\\displaystyle 3 x^{2}$"
      ],
      "text/plain": [
       "3*x**2"
      ]
     },
     "execution_count": 18,
     "metadata": {},
     "output_type": "execute_result"
    }
   ],
   "source": [
    "eq28 = sp.diff(x**3 + 36**(1/2), x)\n",
    "eq28"
   ]
  },
  {
   "cell_type": "markdown",
   "id": "5a58a712-5b42-4fdf-8f38-25516cc5e86a",
   "metadata": {},
   "source": [
    "e"
   ]
  },
  {
   "cell_type": "code",
   "execution_count": 19,
   "id": "ff64db7c-4ed3-4d5a-bbbd-ce7036dd889f",
   "metadata": {},
   "outputs": [
    {
     "data": {
      "text/latex": [
       "$\\displaystyle \\frac{0.5}{x^{0.5}}$"
      ],
      "text/plain": [
       "0.5*x**(-0.5)"
      ]
     },
     "execution_count": 19,
     "metadata": {},
     "output_type": "execute_result"
    }
   ],
   "source": [
    "eq29 = sp.diff(x**(1/2) + 52, x)\n",
    "eq29"
   ]
  },
  {
   "cell_type": "markdown",
   "id": "1c00b74c-afbe-4230-8fb7-af45a52df519",
   "metadata": {},
   "source": [
    "f"
   ]
  },
  {
   "cell_type": "code",
   "execution_count": 20,
   "id": "07f4ce7a-f821-4871-8202-de82d5eb03d6",
   "metadata": {},
   "outputs": [
    {
     "data": {
      "text/latex": [
       "$\\displaystyle 3 x^{2} + 1$"
      ],
      "text/plain": [
       "3*x**2 + 1"
      ]
     },
     "execution_count": 20,
     "metadata": {},
     "output_type": "execute_result"
    }
   ],
   "source": [
    "eq30 = sp.diff(x**3+1*x, x)\n",
    "eq30"
   ]
  },
  {
   "cell_type": "markdown",
   "id": "ef1b48c5-8f82-4656-837a-5141a14fe88b",
   "metadata": {},
   "source": [
    "g"
   ]
  },
  {
   "cell_type": "code",
   "execution_count": 21,
   "id": "6a7d551b-64a2-4ffc-b282-c4fba074b419",
   "metadata": {},
   "outputs": [
    {
     "data": {
      "text/latex": [
       "$\\displaystyle 3 x^{2} - 2 x + 14$"
      ],
      "text/plain": [
       "3*x**2 - 2*x + 14"
      ]
     },
     "execution_count": 21,
     "metadata": {},
     "output_type": "execute_result"
    }
   ],
   "source": [
    "eq31 = sp.diff(x**3 - x**2 + 14*x, x)\n",
    "eq31"
   ]
  },
  {
   "cell_type": "markdown",
   "id": "946d3ba7-c18e-41d7-a8c4-cd8262318f82",
   "metadata": {},
   "source": [
    "Oppgåve 2"
   ]
  },
  {
   "cell_type": "markdown",
   "id": "f8b910a6-4fff-4f9b-b111-504efa7f6235",
   "metadata": {},
   "source": [
    "a"
   ]
  },
  {
   "cell_type": "code",
   "execution_count": 22,
   "id": "febbd214-a6da-42e8-89da-31b42e95b34d",
   "metadata": {},
   "outputs": [
    {
     "data": {
      "text/latex": [
       "$\\displaystyle 12 x - \\frac{1}{x^{2}}$"
      ],
      "text/plain": [
       "12*x - 1/x**2"
      ]
     },
     "execution_count": 22,
     "metadata": {},
     "output_type": "execute_result"
    }
   ],
   "source": [
    "eq32 = sp.diff(1/x + 6*x**2, x)\n",
    "eq32"
   ]
  },
  {
   "cell_type": "markdown",
   "id": "440ad13c-f256-4721-ad24-ec0de192b3ff",
   "metadata": {},
   "source": [
    "b"
   ]
  },
  {
   "cell_type": "code",
   "execution_count": 23,
   "id": "39148de2-7d89-4c9a-9442-2918fea55d43",
   "metadata": {},
   "outputs": [
    {
     "data": {
      "text/latex": [
       "$\\displaystyle 1.5 x^{2} - 1$"
      ],
      "text/plain": [
       "1.5*x**2 - 1"
      ]
     },
     "execution_count": 23,
     "metadata": {},
     "output_type": "execute_result"
    }
   ],
   "source": [
    "eq33 = sp.diff( -x + 1/2*x**3 , x)\n",
    "eq33"
   ]
  },
  {
   "cell_type": "markdown",
   "id": "e118a2b2-c650-42ff-af1a-da53ba148bfe",
   "metadata": {},
   "source": [
    "c"
   ]
  },
  {
   "cell_type": "code",
   "execution_count": 24,
   "id": "07ac0e63-76dd-494f-96d3-52b40373f678",
   "metadata": {},
   "outputs": [
    {
     "data": {
      "text/latex": [
       "$\\displaystyle x^{2} + x \\left(2 x + 2\\right) + 2 x - 3$"
      ],
      "text/plain": [
       "x**2 + x*(2*x + 2) + 2*x - 3"
      ]
     },
     "execution_count": 24,
     "metadata": {},
     "output_type": "execute_result"
    }
   ],
   "source": [
    "eq34 = sp.diff(x*(x**2 + 2*x - 3) , x)\n",
    "eq34"
   ]
  },
  {
   "cell_type": "markdown",
   "id": "7f729118-bdb7-4033-878c-ff90559451e6",
   "metadata": {},
   "source": [
    "Modul 20"
   ]
  },
  {
   "cell_type": "markdown",
   "id": "38506511-bb8a-4405-827c-00d9e0c96daf",
   "metadata": {},
   "source": [
    "Oppgåve 1"
   ]
  },
  {
   "cell_type": "markdown",
   "id": "f1b9e8a3-87f1-4376-9c3e-9889bfbd9af8",
   "metadata": {},
   "source": [
    "e"
   ]
  },
  {
   "cell_type": "code",
   "execution_count": 25,
   "id": "0c96dd44-5440-4f1a-a929-13511eb94426",
   "metadata": {},
   "outputs": [
    {
     "data": {
      "text/latex": [
       "$\\displaystyle 9 x^{8}$"
      ],
      "text/plain": [
       "9*x**8"
      ]
     },
     "execution_count": 25,
     "metadata": {},
     "output_type": "execute_result"
    }
   ],
   "source": [
    "eq36 = sp.diff(x**4 * x**5 , x)\n",
    "eq36"
   ]
  },
  {
   "cell_type": "markdown",
   "id": "dea19a22-afb0-44dd-a26b-2e41631fd7cf",
   "metadata": {},
   "source": [
    "f"
   ]
  },
  {
   "cell_type": "code",
   "execution_count": 26,
   "id": "f59f00fa-eb69-4097-92b8-927967396535",
   "metadata": {},
   "outputs": [
    {
     "data": {
      "text/latex": [
       "$\\displaystyle \\frac{3 \\sqrt{x}}{2}$"
      ],
      "text/plain": [
       "3*sqrt(x)/2"
      ]
     },
     "execution_count": 26,
     "metadata": {},
     "output_type": "execute_result"
    }
   ],
   "source": [
    "eq37 = sp.diff(x * sp.sqrt(x), x)\n",
    "eq37"
   ]
  },
  {
   "cell_type": "markdown",
   "id": "10458b89-3273-42bc-8ae4-0b945adf8c8a",
   "metadata": {},
   "source": [
    "g"
   ]
  },
  {
   "cell_type": "code",
   "execution_count": 27,
   "id": "483530fd-7cf0-4f29-b866-72ecbfb20f1b",
   "metadata": {},
   "outputs": [
    {
     "data": {
      "text/latex": [
       "$\\displaystyle - \\frac{6}{x^{4}}$"
      ],
      "text/plain": [
       "-6/x**4"
      ]
     },
     "execution_count": 27,
     "metadata": {},
     "output_type": "execute_result"
    }
   ],
   "source": [
    "eq38 = sp.diff( 2/x**3 , x)\n",
    "eq38"
   ]
  },
  {
   "cell_type": "markdown",
   "id": "30663e12-093f-4aaa-a339-65d81d745086",
   "metadata": {},
   "source": [
    "h"
   ]
  },
  {
   "cell_type": "code",
   "execution_count": 28,
   "id": "2841afff-9ba1-4747-b45f-5d43d57caa80",
   "metadata": {},
   "outputs": [
    {
     "data": {
      "text/latex": [
       "$\\displaystyle 2 x + \\frac{6}{x^{4}}$"
      ],
      "text/plain": [
       "2*x + 6/x**4"
      ]
     },
     "execution_count": 28,
     "metadata": {},
     "output_type": "execute_result"
    }
   ],
   "source": [
    "eq39 = sp.diff (x**2 - 2 / x**3, x)\n",
    "eq39"
   ]
  },
  {
   "cell_type": "markdown",
   "id": "b4853c08-f507-417e-ac06-cfa78b961e45",
   "metadata": {},
   "source": [
    "i"
   ]
  },
  {
   "cell_type": "code",
   "execution_count": 29,
   "id": "7e01f264-3af0-4b91-9b22-aee30ec23f0b",
   "metadata": {},
   "outputs": [
    {
     "data": {
      "text/latex": [
       "$\\displaystyle \\frac{13 x^{\\frac{11}{2}}}{2}$"
      ],
      "text/plain": [
       "13*x**(11/2)/2"
      ]
     },
     "execution_count": 29,
     "metadata": {},
     "output_type": "execute_result"
    }
   ],
   "source": [
    "eq40 = sp.diff(sp.sqrt(x) * x**6, x)\n",
    "eq40"
   ]
  },
  {
   "cell_type": "raw",
   "id": "b4ea35b1-8068-4fbd-8552-4dc15309a9cf",
   "metadata": {},
   "source": [
    "j"
   ]
  },
  {
   "cell_type": "code",
   "execution_count": 30,
   "id": "a9372774-97e5-4974-92f8-374e2664af44",
   "metadata": {},
   "outputs": [
    {
     "data": {
      "text/latex": [
       "$\\displaystyle 3 x^{2} + 1$"
      ],
      "text/plain": [
       "3*x**2 + 1"
      ]
     },
     "execution_count": 30,
     "metadata": {},
     "output_type": "execute_result"
    }
   ],
   "source": [
    "eq41 = sp.diff(x *(x**2 + 1), x)\n",
    "eq41"
   ]
  },
  {
   "cell_type": "markdown",
   "id": "4dbd17db-022b-4607-a914-4d953e0b8de2",
   "metadata": {},
   "source": [
    "k"
   ]
  },
  {
   "cell_type": "code",
   "execution_count": 31,
   "id": "7b4c58c1-17d8-4178-8879-725cc2966555",
   "metadata": {},
   "outputs": [
    {
     "data": {
      "text/latex": [
       "$\\displaystyle \\frac{2}{x^{2}} - \\frac{3 \\left(x^{2} + 4\\right)}{x^{4}}$"
      ],
      "text/plain": [
       "2/x**2 - 3*(x**2 + 4)/x**4"
      ]
     },
     "execution_count": 31,
     "metadata": {},
     "output_type": "execute_result"
    }
   ],
   "source": [
    "eq42 = sp.diff((x**2 + 4)/ x**3 - 1, x)\n",
    "eq42"
   ]
  },
  {
   "cell_type": "markdown",
   "id": "ee8b0a2b-87f2-43f2-b8d3-7554fc47b3d6",
   "metadata": {},
   "source": [
    "l"
   ]
  },
  {
   "cell_type": "code",
   "execution_count": 32,
   "id": "7b50974e-0526-40a2-af8f-eca0a4d8dbc7",
   "metadata": {},
   "outputs": [
    {
     "data": {
      "text/latex": [
       "$\\displaystyle 2$"
      ],
      "text/plain": [
       "2"
      ]
     },
     "execution_count": 32,
     "metadata": {},
     "output_type": "execute_result"
    }
   ],
   "source": [
    "eq43 = sp.diff(x**2/x**2+ 2*x, x)\n",
    "eq43"
   ]
  },
  {
   "cell_type": "markdown",
   "id": "5447b8b5-ae8f-4694-814b-1ed9850c5b5a",
   "metadata": {},
   "source": [
    "m"
   ]
  },
  {
   "cell_type": "code",
   "execution_count": 33,
   "id": "0443963e-9c58-4550-8334-f2edaad49cb6",
   "metadata": {},
   "outputs": [
    {
     "data": {
      "text/latex": [
       "$\\displaystyle 2 x + 4 - \\frac{2}{x^{2}}$"
      ],
      "text/plain": [
       "2*x + 4 - 2/x**2"
      ]
     },
     "execution_count": 33,
     "metadata": {},
     "output_type": "execute_result"
    }
   ],
   "source": [
    "eq44 = sp.diff(x**2 + 4*x + 2/x - 2 , x)\n",
    "eq44"
   ]
  },
  {
   "cell_type": "markdown",
   "id": "64de7076-7844-4869-9d7d-078e18ab5c9d",
   "metadata": {},
   "source": [
    "Oppgåve 2"
   ]
  },
  {
   "cell_type": "markdown",
   "id": "17a2f158-c5fa-4106-9fcb-7445b4f3f967",
   "metadata": {},
   "source": [
    "a"
   ]
  },
  {
   "cell_type": "code",
   "execution_count": 34,
   "id": "cba39879-e975-43cf-b573-4467cdbb9c61",
   "metadata": {},
   "outputs": [
    {
     "data": {
      "text/latex": [
       "$\\displaystyle 3 x^{2} + \\frac{2}{x^{2}}$"
      ],
      "text/plain": [
       "3*x**2 + 2/x**2"
      ]
     },
     "execution_count": 34,
     "metadata": {},
     "output_type": "execute_result"
    }
   ],
   "source": [
    "eq45 = sp.diff(x**3 - 2*x/x**2 - 1, x)\n",
    "eq45"
   ]
  },
  {
   "cell_type": "markdown",
   "id": "6bc0529b-0967-4124-a964-9a0b7300752c",
   "metadata": {},
   "source": [
    "b"
   ]
  },
  {
   "cell_type": "code",
   "execution_count": 35,
   "id": "9e9ea5b0-c9fe-42be-acb6-5c00a3d6bd1e",
   "metadata": {},
   "outputs": [
    {
     "data": {
      "text/latex": [
       "$\\displaystyle 4 x$"
      ],
      "text/plain": [
       "4*x"
      ]
     },
     "execution_count": 35,
     "metadata": {},
     "output_type": "execute_result"
    }
   ],
   "source": [
    "eq46 = sp.diff((x**2 + 1)+(x**2 - 1), x)\n",
    "eq46"
   ]
  },
  {
   "cell_type": "markdown",
   "id": "b7d57659-e1bf-43ee-993c-03b551124835",
   "metadata": {},
   "source": [
    "c"
   ]
  },
  {
   "cell_type": "code",
   "execution_count": 36,
   "id": "1277cd59-36bb-496a-8b24-33f437f095b4",
   "metadata": {},
   "outputs": [
    {
     "data": {
      "text/latex": [
       "$\\displaystyle 3 + \\frac{12}{x^{4}}$"
      ],
      "text/plain": [
       "3 + 12/x**4"
      ]
     },
     "execution_count": 36,
     "metadata": {},
     "output_type": "execute_result"
    }
   ],
   "source": [
    "eq47 = sp.diff(3*x - 4 / x**3 + 7 , x)\n",
    "eq47"
   ]
  },
  {
   "cell_type": "markdown",
   "id": "8e5a415f-a84e-4925-8086-96634be5a191",
   "metadata": {},
   "source": [
    "Modul 21 "
   ]
  },
  {
   "cell_type": "code",
   "execution_count": 37,
   "id": "b75a876d-b749-4c48-a282-9d1f7be2d26a",
   "metadata": {},
   "outputs": [],
   "source": [
    "import sympy as sp\n",
    "from sympy.solvers import solve\n",
    "x,y=sp.symbols('x y')"
   ]
  },
  {
   "cell_type": "markdown",
   "id": "9c64787e-fb37-480f-90b3-65eff23f5e30",
   "metadata": {},
   "source": [
    "a"
   ]
  },
  {
   "cell_type": "code",
   "execution_count": 38,
   "id": "0fc456ec-3cc6-4a8f-b3fe-340baaf03796",
   "metadata": {},
   "outputs": [
    {
     "data": {
      "text/latex": [
       "$\\displaystyle \\left(15 x^{2} + 30\\right) \\left(x^{3} + 6 x\\right)^{4}$"
      ],
      "text/plain": [
       "(15*x**2 + 30)*(x**3 + 6*x)**4"
      ]
     },
     "execution_count": 38,
     "metadata": {},
     "output_type": "execute_result"
    }
   ],
   "source": [
    "eq48 = sp.diff((x**3 + 6*x)**5)\n",
    "eq48"
   ]
  },
  {
   "cell_type": "markdown",
   "id": "0363939a-ee7c-4c68-86b7-0336c7a8c85b",
   "metadata": {},
   "source": [
    "b"
   ]
  },
  {
   "cell_type": "code",
   "execution_count": 39,
   "id": "4fc64a79-2ac6-4617-b182-e29638547bf9",
   "metadata": {},
   "outputs": [
    {
     "data": {
      "text/latex": [
       "$\\displaystyle \\frac{2 x}{\\sqrt{2 x^{2} + 5}}$"
      ],
      "text/plain": [
       "2*x/sqrt(2*x**2 + 5)"
      ]
     },
     "execution_count": 39,
     "metadata": {},
     "output_type": "execute_result"
    }
   ],
   "source": [
    "eq49 = sp.diff(sp.sqrt(2*x**2 + 5), x)\n",
    "eq49"
   ]
  },
  {
   "cell_type": "markdown",
   "id": "74f2008e-54a6-42e8-9681-079588282c21",
   "metadata": {},
   "source": [
    "c"
   ]
  },
  {
   "cell_type": "code",
   "execution_count": 40,
   "id": "e1c3481c-8a78-42d6-9f7c-3713d826d540",
   "metadata": {},
   "outputs": [
    {
     "data": {
      "text/latex": [
       "$\\displaystyle - \\frac{8 \\left(3 + \\frac{2}{x}\\right)^{3}}{x^{2}}$"
      ],
      "text/plain": [
       "-8*(3 + 2/x)**3/x**2"
      ]
     },
     "execution_count": 40,
     "metadata": {},
     "output_type": "execute_result"
    }
   ],
   "source": [
    "eq50 = sp.diff((2*x/x**2 + 3)**4, x)\n",
    "eq50"
   ]
  },
  {
   "cell_type": "markdown",
   "id": "30ce4005-4f49-4151-8391-edd9988f6e80",
   "metadata": {},
   "source": [
    "d"
   ]
  },
  {
   "cell_type": "code",
   "execution_count": 41,
   "id": "c2e9fca6-4fea-43f7-b909-576d55b3c197",
   "metadata": {},
   "outputs": [
    {
     "data": {
      "text/latex": [
       "$\\displaystyle 12 x^{3} \\left(2 x^{4} + 9\\right)^{2}$"
      ],
      "text/plain": [
       "12*x**3*(2*x**4 + 9)**2"
      ]
     },
     "execution_count": 41,
     "metadata": {},
     "output_type": "execute_result"
    }
   ],
   "source": [
    "eq51 = sp.diff((2*x**4 + 9)**3/2, x)\n",
    "eq51"
   ]
  },
  {
   "cell_type": "markdown",
   "id": "c0dafff9-6ed0-438d-848c-04ecad7d6baa",
   "metadata": {},
   "source": [
    "e"
   ]
  },
  {
   "cell_type": "code",
   "execution_count": 42,
   "id": "e5a940b5-def5-4f65-a91d-44a92262a4c1",
   "metadata": {},
   "outputs": [
    {
     "data": {
      "text/latex": [
       "$\\displaystyle - \\frac{x}{\\left(x^{2} + 1\\right)^{\\frac{3}{2}}}$"
      ],
      "text/plain": [
       "-x/(x**2 + 1)**(3/2)"
      ]
     },
     "execution_count": 42,
     "metadata": {},
     "output_type": "execute_result"
    }
   ],
   "source": [
    "eq52 = sp.diff(1 / sp.sqrt(1 + x**2), x)\n",
    "eq52"
   ]
  },
  {
   "cell_type": "markdown",
   "id": "e218b0e9-41e7-41d4-a9b7-8be4745ea0ca",
   "metadata": {},
   "source": [
    "f"
   ]
  },
  {
   "cell_type": "code",
   "execution_count": 43,
   "id": "50e74456-7fce-48a3-bd66-2a89e9fcf4d4",
   "metadata": {},
   "outputs": [
    {
     "data": {
      "text/latex": [
       "$\\displaystyle x^{2} \\left(6 x + 6\\right) \\left(x^{2} + 2 x\\right)^{2} + 2 x \\left(x^{2} + 2 x\\right)^{3}$"
      ],
      "text/plain": [
       "x**2*(6*x + 6)*(x**2 + 2*x)**2 + 2*x*(x**2 + 2*x)**3"
      ]
     },
     "execution_count": 43,
     "metadata": {},
     "output_type": "execute_result"
    }
   ],
   "source": [
    "eq53 = sp.diff(x**2*(x**2 + 2*x)**3, x)\n",
    "eq53"
   ]
  },
  {
   "cell_type": "markdown",
   "id": "e4663253-2f09-46ac-8a8d-992e9915c0e9",
   "metadata": {},
   "source": [
    "g"
   ]
  },
  {
   "cell_type": "code",
   "execution_count": 44,
   "id": "ae9d13d5-9c97-4ee5-bc0c-4e7bf986ee00",
   "metadata": {},
   "outputs": [
    {
     "data": {
      "text/latex": [
       "$\\displaystyle \\frac{x^{2} \\left(x - 1\\right)}{\\sqrt{x^{2} - 2 x}} + 2 x \\sqrt{x^{2} - 2 x}$"
      ],
      "text/plain": [
       "x**2*(x - 1)/sqrt(x**2 - 2*x) + 2*x*sqrt(x**2 - 2*x)"
      ]
     },
     "execution_count": 44,
     "metadata": {},
     "output_type": "execute_result"
    }
   ],
   "source": [
    "eq54 = sp.diff(x**2 * sp.sqrt(x**2 - 2*x))\n",
    "eq54"
   ]
  },
  {
   "cell_type": "markdown",
   "id": "ae0b9257-68df-4beb-a0bc-254066cf2325",
   "metadata": {},
   "source": [
    "h"
   ]
  },
  {
   "cell_type": "code",
   "execution_count": 45,
   "id": "8beeb357-8ff0-4c34-9db7-1bacbf49b723",
   "metadata": {},
   "outputs": [
    {
     "data": {
      "text/latex": [
       "$\\displaystyle \\frac{x^{2} \\left(- 6 x - 3\\right)}{\\left(x^{2} + x\\right)^{4}} + \\frac{2 x}{\\left(x^{2} + x\\right)^{3}}$"
      ],
      "text/plain": [
       "x**2*(-6*x - 3)/(x**2 + x)**4 + 2*x/(x**2 + x)**3"
      ]
     },
     "execution_count": 45,
     "metadata": {},
     "output_type": "execute_result"
    }
   ],
   "source": [
    "eq55 = sp.diff(x**2 / (x**2 + x)**3 , x)\n",
    "eq55"
   ]
  },
  {
   "cell_type": "markdown",
   "id": "0b28e02b-6436-4854-b922-f66d4dfa7823",
   "metadata": {},
   "source": [
    "i"
   ]
  },
  {
   "cell_type": "code",
   "execution_count": 46,
   "id": "fb2a37a2-2b8f-4b8a-a804-2706adb6cd4e",
   "metadata": {},
   "outputs": [
    {
     "data": {
      "text/latex": [
       "$\\displaystyle 9 x^{2} \\left(x^{2} + 1\\right)^{2} \\left(x^{3} + 1\\right)^{2} + 4 x \\left(x^{2} + 1\\right) \\left(x^{3} + 1\\right)^{3}$"
      ],
      "text/plain": [
       "9*x**2*(x**2 + 1)**2*(x**3 + 1)**2 + 4*x*(x**2 + 1)*(x**3 + 1)**3"
      ]
     },
     "execution_count": 46,
     "metadata": {},
     "output_type": "execute_result"
    }
   ],
   "source": [
    "eq56 = sp.diff((x**2 + 1)**2 * (x**3 + 1)**3, x)\n",
    "eq56"
   ]
  },
  {
   "cell_type": "markdown",
   "id": "db58729b-462d-4a5f-bf3f-2a3e6a5f4983",
   "metadata": {},
   "source": [
    "Oppgåve2"
   ]
  },
  {
   "cell_type": "markdown",
   "id": "ed0e2d61-2212-4ad4-818c-f4fae37792e8",
   "metadata": {},
   "source": [
    "a"
   ]
  },
  {
   "cell_type": "code",
   "execution_count": 47,
   "id": "73d38692-0679-4ffb-86c0-c7df2d7739f1",
   "metadata": {},
   "outputs": [
    {
     "data": {
      "text/latex": [
       "$\\displaystyle \\left(12 x + 4\\right) \\left(3 x^{2} + 2 x\\right)$"
      ],
      "text/plain": [
       "(12*x + 4)*(3*x**2 + 2*x)"
      ]
     },
     "execution_count": 47,
     "metadata": {},
     "output_type": "execute_result"
    }
   ],
   "source": [
    "eq57 = sp.diff(sp.sqrt(3*x**2 + 2*x)**4, x)\n",
    "eq57"
   ]
  },
  {
   "cell_type": "markdown",
   "id": "5977e33d-bf66-4106-87c4-29e55eabdd47",
   "metadata": {},
   "source": [
    "b"
   ]
  },
  {
   "cell_type": "code",
   "execution_count": 48,
   "id": "6a6171a5-c8f3-4ebc-be2b-d9f68af71856",
   "metadata": {},
   "outputs": [
    {
     "data": {
      "text/latex": [
       "$\\displaystyle 15 x^{2} \\left(x^{2} + 3\\right)^{4} \\left(x^{3} + 3\\right)^{4} + 8 x \\left(x^{2} + 3\\right)^{3} \\left(x^{3} + 3\\right)^{5}$"
      ],
      "text/plain": [
       "15*x**2*(x**2 + 3)**4*(x**3 + 3)**4 + 8*x*(x**2 + 3)**3*(x**3 + 3)**5"
      ]
     },
     "execution_count": 48,
     "metadata": {},
     "output_type": "execute_result"
    }
   ],
   "source": [
    "eq58 = sp.diff(((x**3 + 3)**5 * (x**2 + 3)**4), x)\n",
    "eq58"
   ]
  },
  {
   "cell_type": "markdown",
   "id": "7b5858a1-43fc-47c4-b106-9e3ffd6bb2e7",
   "metadata": {},
   "source": [
    "c"
   ]
  },
  {
   "cell_type": "code",
   "execution_count": 49,
   "id": "35ac1719-38a3-4193-b37a-1021fff7d646",
   "metadata": {},
   "outputs": [
    {
     "data": {
      "text/latex": [
       "$\\displaystyle \\frac{\\sqrt{2} \\sqrt{x^{2}}}{x}$"
      ],
      "text/plain": [
       "sqrt(2)*sqrt(x**2)/x"
      ]
     },
     "execution_count": 49,
     "metadata": {},
     "output_type": "execute_result"
    }
   ],
   "source": [
    "eq59 = sp.diff(sp.sqrt(x**2 + 1 * x**2) , x)\n",
    "eq59"
   ]
  },
  {
   "cell_type": "markdown",
   "id": "ea1a8db5-321e-47f2-b69c-3bbf0b7b9638",
   "metadata": {},
   "source": [
    "d"
   ]
  },
  {
   "cell_type": "code",
   "execution_count": 50,
   "id": "34f9bb84-2894-46df-a1cc-b2845f5eec87",
   "metadata": {},
   "outputs": [
    {
     "data": {
      "text/latex": [
       "$\\displaystyle \\frac{\\left(18 x + 6\\right) \\left(3 x^{2} + 2 x\\right)^{2}}{x^{2}} - \\frac{2 \\left(3 x^{2} + 2 x\\right)^{3}}{x^{3}}$"
      ],
      "text/plain": [
       "(18*x + 6)*(3*x**2 + 2*x)**2/x**2 - 2*(3*x**2 + 2*x)**3/x**3"
      ]
     },
     "execution_count": 50,
     "metadata": {},
     "output_type": "execute_result"
    }
   ],
   "source": [
    "eq60 = sp.diff((2*x + 3*x**2)**3 / x**2 , x)\n",
    "eq60"
   ]
  },
  {
   "cell_type": "markdown",
   "id": "abc8b7ec-1536-4cf6-bfa1-308e72db2c48",
   "metadata": {},
   "source": [
    "e"
   ]
  },
  {
   "cell_type": "code",
   "execution_count": 51,
   "id": "e62332c1-1cfe-4642-8d10-207bd7e7acb3",
   "metadata": {},
   "outputs": [
    {
     "data": {
      "text/latex": [
       "$\\displaystyle 6 x^{3} \\sqrt{x^{4} - 5}$"
      ],
      "text/plain": [
       "6*x**3*sqrt(x**4 - 5)"
      ]
     },
     "execution_count": 51,
     "metadata": {},
     "output_type": "execute_result"
    }
   ],
   "source": [
    "eq61 = sp.diff(sp.sqrt(x**4 - 5)**3 , x)\n",
    "eq61"
   ]
  },
  {
   "cell_type": "markdown",
   "id": "c14fa459-d1ac-4c1a-8369-ae41a881a122",
   "metadata": {},
   "source": [
    "f"
   ]
  },
  {
   "cell_type": "code",
   "execution_count": 52,
   "id": "ab9fb27d-ad24-47be-817c-9cafd20fc5cc",
   "metadata": {},
   "outputs": [
    {
     "data": {
      "text/latex": [
       "$\\displaystyle - \\frac{2 x^{6}}{\\left(x^{4} - 1\\right)^{\\frac{3}{2}}} + \\frac{3 x^{2}}{\\sqrt{x^{4} - 1}}$"
      ],
      "text/plain": [
       "-2*x**6/(x**4 - 1)**(3/2) + 3*x**2/sqrt(x**4 - 1)"
      ]
     },
     "execution_count": 52,
     "metadata": {},
     "output_type": "execute_result"
    }
   ],
   "source": [
    "eq62 = sp.diff(x**3 / sp.sqrt(x**4 - 1), x)\n",
    "eq62"
   ]
  },
  {
   "cell_type": "markdown",
   "id": "e6120934-5acd-4de7-8f74-a71a1db76b2c",
   "metadata": {},
   "source": [
    "Modul 22 :Oppgåve 1"
   ]
  },
  {
   "cell_type": "code",
   "execution_count": 53,
   "id": "be3efbc1-0947-4e9d-82d7-e5a8a6f2de90",
   "metadata": {},
   "outputs": [
    {
     "data": {
      "text/latex": [
       "$\\displaystyle x^{\\frac{1}{y}}$"
      ],
      "text/plain": [
       "x**(1/y)"
      ]
     },
     "metadata": {},
     "output_type": "display_data"
    },
    {
     "data": {
      "text/latex": [
       "$\\displaystyle \\log{\\left(x \\right)}$"
      ],
      "text/plain": [
       "log(x)"
      ]
     },
     "metadata": {},
     "output_type": "display_data"
    },
    {
     "data": {
      "text/latex": [
       "$\\displaystyle e^{x}$"
      ],
      "text/plain": [
       "exp(x)"
      ]
     },
     "metadata": {},
     "output_type": "display_data"
    }
   ],
   "source": [
    "import sympy as sp\n",
    "x,y = sp.symbols ('x y')\n",
    "display( sp.root(x, y))\n",
    "display( sp.log(x))\n",
    "display( sp.exp(x))"
   ]
  },
  {
   "cell_type": "markdown",
   "id": "85bd06e8-7c4f-47b0-86b3-8cbe168ad19b",
   "metadata": {},
   "source": [
    "a"
   ]
  },
  {
   "cell_type": "code",
   "execution_count": 54,
   "id": "705fe182-4c9c-4a8e-bc68-ed5a29ec0845",
   "metadata": {},
   "outputs": [
    {
     "data": {
      "text/latex": [
       "$\\displaystyle \\frac{1}{x}$"
      ],
      "text/plain": [
       "1/x"
      ]
     },
     "execution_count": 54,
     "metadata": {},
     "output_type": "execute_result"
    }
   ],
   "source": [
    "eq63 = sp.diff(sp.log(5*x))\n",
    "eq63"
   ]
  },
  {
   "cell_type": "code",
   "execution_count": 55,
   "id": "366f765e-62b3-49f7-bcd8-9d5dcaaa89f3",
   "metadata": {},
   "outputs": [],
   "source": [
    "from sympy import E"
   ]
  },
  {
   "cell_type": "markdown",
   "id": "f7233eac-015e-4cea-9845-90b7983db7db",
   "metadata": {},
   "source": [
    "b"
   ]
  },
  {
   "cell_type": "code",
   "execution_count": 56,
   "id": "5dcbdda0-4faa-46d2-90ed-7f98acffa619",
   "metadata": {},
   "outputs": [
    {
     "data": {
      "text/latex": [
       "$\\displaystyle \\frac{1}{x}$"
      ],
      "text/plain": [
       "1/x"
      ]
     },
     "execution_count": 56,
     "metadata": {},
     "output_type": "execute_result"
    }
   ],
   "source": [
    "eq64 = sp.diff(sp.log(E**-2*x ))\n",
    "eq64"
   ]
  },
  {
   "cell_type": "markdown",
   "id": "80a5a1c7-c2fb-4dc5-80b1-6e9e1b717844",
   "metadata": {},
   "source": [
    "c"
   ]
  },
  {
   "cell_type": "code",
   "execution_count": 57,
   "id": "d93e69be-8a3d-4869-bc7f-3e740102bf7b",
   "metadata": {},
   "outputs": [
    {
     "data": {
      "text/latex": [
       "$\\displaystyle \\frac{1}{x}$"
      ],
      "text/plain": [
       "1/x"
      ]
     },
     "execution_count": 57,
     "metadata": {},
     "output_type": "execute_result"
    }
   ],
   "source": [
    "eq65 = sp.diff(sp.log(12*x) - 3)\n",
    "eq65"
   ]
  },
  {
   "cell_type": "markdown",
   "id": "b56db6dd-f2bb-4d6d-9fb2-e82a9c619950",
   "metadata": {},
   "source": [
    "d"
   ]
  },
  {
   "cell_type": "code",
   "execution_count": 58,
   "id": "44da1f2c-70be-425c-a806-3b7085b1790c",
   "metadata": {},
   "outputs": [
    {
     "data": {
      "text/latex": [
       "$\\displaystyle 2^{x} \\log{\\left(2 \\right)}$"
      ],
      "text/plain": [
       "2**x*log(2)"
      ]
     },
     "execution_count": 58,
     "metadata": {},
     "output_type": "execute_result"
    }
   ],
   "source": [
    "eq66 = sp.diff(2**x)\n",
    "eq66"
   ]
  },
  {
   "cell_type": "markdown",
   "id": "f11203b6-c150-47b2-8c56-6ece15c684f6",
   "metadata": {},
   "source": [
    "e"
   ]
  },
  {
   "cell_type": "code",
   "execution_count": 59,
   "id": "00c3a014-00ec-4198-b77a-ecbaa8576369",
   "metadata": {},
   "outputs": [
    {
     "data": {
      "text/latex": [
       "$\\displaystyle e^{3}$"
      ],
      "text/plain": [
       "exp(3)"
      ]
     },
     "execution_count": 59,
     "metadata": {},
     "output_type": "execute_result"
    }
   ],
   "source": [
    "eq67 = sp.diff(E**3*x + 5)\n",
    "eq67"
   ]
  },
  {
   "cell_type": "markdown",
   "id": "2fd52973-1ba3-40ba-9fb5-1ea2851f6f5f",
   "metadata": {},
   "source": [
    "f"
   ]
  },
  {
   "cell_type": "code",
   "execution_count": 60,
   "id": "a09f0dfc-6fdf-484b-b3ea-10e5117b1e9c",
   "metadata": {},
   "outputs": [
    {
     "data": {
      "text/latex": [
       "$\\displaystyle \\frac{5 x^{4}}{x^{5} + 1}$"
      ],
      "text/plain": [
       "5*x**4/(x**5 + 1)"
      ]
     },
     "execution_count": 60,
     "metadata": {},
     "output_type": "execute_result"
    }
   ],
   "source": [
    "eq68 = sp.diff(sp.log(x**5 + 1))\n",
    "eq68"
   ]
  },
  {
   "cell_type": "markdown",
   "id": "715da1fe-9980-427e-a5ee-83df0c2a87c4",
   "metadata": {},
   "source": [
    "g"
   ]
  },
  {
   "cell_type": "code",
   "execution_count": 61,
   "id": "f7768183-2798-4ed6-90cd-32357b2362f1",
   "metadata": {},
   "outputs": [
    {
     "data": {
      "text/latex": [
       "$\\displaystyle \\frac{2 x e^{4} + 8}{\\left(x^{2} e^{4} + 8 x\\right) \\log{\\left(x \\right)}} - \\frac{\\log{\\left(x^{2} e^{4} + 8 x \\right)}}{x \\log{\\left(x \\right)}^{2}}$"
      ],
      "text/plain": [
       "(2*x*exp(4) + 8)/((x**2*exp(4) + 8*x)*log(x)) - log(x**2*exp(4) + 8*x)/(x*log(x)**2)"
      ]
     },
     "execution_count": 61,
     "metadata": {},
     "output_type": "execute_result"
    }
   ],
   "source": [
    "eq69 = sp.diff(sp.log(E**4*x**2 + 8*x , x))\n",
    "eq69"
   ]
  },
  {
   "cell_type": "markdown",
   "id": "2d3283b6-66b3-480b-8ae9-32e60f7c9e8a",
   "metadata": {},
   "source": [
    "h"
   ]
  },
  {
   "cell_type": "code",
   "execution_count": 62,
   "id": "d49aaf65-ac3c-4f68-9dc5-2f6e4fce6825",
   "metadata": {},
   "outputs": [
    {
     "data": {
      "text/latex": [
       "$\\displaystyle - \\frac{1}{x}$"
      ],
      "text/plain": [
       "-1/x"
      ]
     },
     "execution_count": 62,
     "metadata": {},
     "output_type": "execute_result"
    }
   ],
   "source": [
    "eq70 = sp.diff(sp.log(1 / x ))\n",
    "eq70"
   ]
  },
  {
   "cell_type": "markdown",
   "id": "e4d400c5-daff-4d11-a45e-07925929b8e4",
   "metadata": {},
   "source": [
    "i"
   ]
  },
  {
   "cell_type": "code",
   "execution_count": 63,
   "id": "24827d07-94a6-4810-894f-f1d0f065fbd2",
   "metadata": {},
   "outputs": [
    {
     "data": {
      "text/latex": [
       "$\\displaystyle \\frac{6 + 3 e^{4}}{6 x + 3 x e^{4}}$"
      ],
      "text/plain": [
       "(6 + 3*exp(4))/(6*x + 3*x*exp(4))"
      ]
     },
     "execution_count": 63,
     "metadata": {},
     "output_type": "execute_result"
    }
   ],
   "source": [
    "eq71 = sp.diff(sp.log(6 * x + 3*E**4*x))\n",
    "eq71"
   ]
  },
  {
   "cell_type": "markdown",
   "id": "1ce566af-2dbd-40ec-826f-2a6ab556b97e",
   "metadata": {},
   "source": [
    "j"
   ]
  },
  {
   "cell_type": "code",
   "execution_count": 64,
   "id": "1ff9b77a-4799-490c-b881-412053f6c58d",
   "metadata": {},
   "outputs": [
    {
     "data": {
      "text/latex": [
       "$\\displaystyle - x e^{- x} + e^{- x}$"
      ],
      "text/plain": [
       "-x*exp(-x) + exp(-x)"
      ]
     },
     "execution_count": 64,
     "metadata": {},
     "output_type": "execute_result"
    }
   ],
   "source": [
    "eq72 = sp.diff(x * E** -x)\n",
    "eq72"
   ]
  },
  {
   "cell_type": "markdown",
   "id": "4466a7c7-dbe0-47f8-81f1-37005e05f3cc",
   "metadata": {},
   "source": [
    "k"
   ]
  },
  {
   "cell_type": "code",
   "execution_count": 65,
   "id": "f5a1d9f8-297f-42c1-9640-aa2a4709d33f",
   "metadata": {},
   "outputs": [
    {
     "data": {
      "text/latex": [
       "$\\displaystyle \\frac{2 x^{3}}{\\left(x^{2} + 2\\right) \\log{\\left(x \\right)}} + \\frac{2 x \\log{\\left(x^{2} + 2 \\right)}}{\\log{\\left(x \\right)}} - \\frac{x \\log{\\left(x^{2} + 2 \\right)}}{\\log{\\left(x \\right)}^{2}}$"
      ],
      "text/plain": [
       "2*x**3/((x**2 + 2)*log(x)) + 2*x*log(x**2 + 2)/log(x) - x*log(x**2 + 2)/log(x)**2"
      ]
     },
     "execution_count": 65,
     "metadata": {},
     "output_type": "execute_result"
    }
   ],
   "source": [
    "eq73 = sp.diff(x**2*sp.log(x**2 + 2, x))\n",
    "eq73"
   ]
  },
  {
   "cell_type": "markdown",
   "id": "23fefa01-766b-4ffb-9db0-c090102c8880",
   "metadata": {},
   "source": [
    "Oppgåve 2 "
   ]
  },
  {
   "cell_type": "markdown",
   "id": "41435c93-7fb9-416d-991e-f10c73f1e09c",
   "metadata": {},
   "source": [
    "a"
   ]
  },
  {
   "cell_type": "code",
   "execution_count": 66,
   "id": "c909673b-9e57-4e91-b25e-c6251126c4da",
   "metadata": {},
   "outputs": [
    {
     "data": {
      "text/latex": [
       "$\\displaystyle 4 x^{3} e^{2}$"
      ],
      "text/plain": [
       "4*x**3*exp(2)"
      ]
     },
     "execution_count": 66,
     "metadata": {},
     "output_type": "execute_result"
    }
   ],
   "source": [
    "eq74 = sp.diff(x**3*E**2*x)\n",
    "eq74"
   ]
  },
  {
   "cell_type": "markdown",
   "id": "03da7d53-5d09-415d-9afa-71b61a4dfec6",
   "metadata": {},
   "source": [
    "b"
   ]
  },
  {
   "cell_type": "code",
   "execution_count": 67,
   "id": "31e5c6bc-b8dd-402f-94f9-88f609c66807",
   "metadata": {},
   "outputs": [
    {
     "data": {
      "text/latex": [
       "$\\displaystyle \\frac{2 x + \\frac{2}{x^{3}}}{x^{2} + 1 - \\frac{1}{x^{2}}}$"
      ],
      "text/plain": [
       "(2*x + 2/x**3)/(x**2 + 1 - 1/x**2)"
      ]
     },
     "execution_count": 67,
     "metadata": {},
     "output_type": "execute_result"
    }
   ],
   "source": [
    "eq75 = sp.diff(sp.log(x**2 - 1 / x**2 + 1))\n",
    "eq75"
   ]
  },
  {
   "cell_type": "markdown",
   "id": "dfc1f391-2c47-495b-8138-e067592b674d",
   "metadata": {},
   "source": [
    "c"
   ]
  },
  {
   "cell_type": "code",
   "execution_count": 68,
   "id": "97d8183f-7394-4eae-a042-0f90b78ac0a5",
   "metadata": {},
   "outputs": [
    {
     "data": {
      "text/latex": [
       "$\\displaystyle \\frac{2 x^{3}}{x^{2} + 2} + 2 x \\log{\\left(x^{2} + 2 \\right)}$"
      ],
      "text/plain": [
       "2*x**3/(x**2 + 2) + 2*x*log(x**2 + 2)"
      ]
     },
     "execution_count": 68,
     "metadata": {},
     "output_type": "execute_result"
    }
   ],
   "source": [
    "eq76 = sp.diff(x**2 * sp.log(x**2 +2))\n",
    "eq76"
   ]
  },
  {
   "cell_type": "markdown",
   "id": "2634ae0d-ff41-4fbd-b571-6b90cce87df5",
   "metadata": {},
   "source": [
    "d"
   ]
  },
  {
   "cell_type": "code",
   "execution_count": 69,
   "id": "fc077c42-e7e6-440d-b814-a6be58e7f8bb",
   "metadata": {},
   "outputs": [
    {
     "data": {
      "text/latex": [
       "$\\displaystyle - \\frac{e^{- x}}{x^{2}} - \\frac{2 e^{- x}}{x^{3}}$"
      ],
      "text/plain": [
       "-exp(-x)/x**2 - 2*exp(-x)/x**3"
      ]
     },
     "execution_count": 69,
     "metadata": {},
     "output_type": "execute_result"
    }
   ],
   "source": [
    "eq77 = sp.diff(E** - x/ x**2 + 1)\n",
    "eq77"
   ]
  },
  {
   "cell_type": "code",
   "execution_count": null,
   "id": "cdba96ae-ab19-4f82-bf5d-b33a62ba7d65",
   "metadata": {},
   "outputs": [],
   "source": []
  }
 ],
 "metadata": {
  "kernelspec": {
   "display_name": "Python 3 (ipykernel)",
   "language": "python",
   "name": "python3"
  },
  "language_info": {
   "codemirror_mode": {
    "name": "ipython",
    "version": 3
   },
   "file_extension": ".py",
   "mimetype": "text/x-python",
   "name": "python",
   "nbconvert_exporter": "python",
   "pygments_lexer": "ipython3",
   "version": "3.9.5"
  }
 },
 "nbformat": 4,
 "nbformat_minor": 5
}
